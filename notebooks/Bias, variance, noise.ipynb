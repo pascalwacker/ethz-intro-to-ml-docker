{
 "cells": [
  {
   "cell_type": "markdown",
   "metadata": {},
   "source": [
    "# Bias, variance, and Noise trade-off"
   ]
  },
  {
   "cell_type": "code",
   "execution_count": 1,
   "metadata": {},
   "outputs": [
    {
     "name": "stdout",
     "output_type": "stream",
     "text": [
      "The autoreload extension is already loaded. To reload it, use:\n",
      "  %reload_ext autoreload\n"
     ]
    }
   ],
   "source": [
    "# Code source: Sebastian Curi and Andreas Krause, based on Jaques Grobler (sklearn demos).\n",
    "# License: BSD 3 clause\n",
    "\n",
    "# We start importing some modules and running some magic commands\n",
    "% matplotlib inline\n",
    "% reload_ext autoreload\n",
    "% load_ext autoreload\n",
    "% autoreload 2\n",
    "\n",
    "# General math and plotting modules.\n",
    "import numpy as np\n",
    "import matplotlib as mpl\n",
    "import matplotlib.pyplot as plt\n",
    "\n",
    "# Project files.\n",
    "from util import gradient_descent, generate_polynomial_data\n",
    "import plot_helpers\n",
    "from regressors import LinearRegressor\n",
    "from regularizers import Regularizer, L2Regularizer\n",
    "\n",
    "# Widget and formatting modules\n",
    "import ipywidgets\n",
    "from ipywidgets import interact, interactive, interact_manual, fixed\n",
    "import pylab\n",
    "# If in your browser the figures are not nicely vizualized, change the following line. \n",
    "pylab.rcParams['figure.figsize'] = (10, 5)\n",
    "\n",
    "# Machine Learning library. \n",
    "from sklearn.pipeline import Pipeline\n",
    "from sklearn.preprocessing import PolynomialFeatures\n",
    "from sklearn.linear_model import LinearRegression\n",
    "from sklearn.model_selection import cross_val_score\n"
   ]
  },
  {
   "cell_type": "code",
   "execution_count": 2,
   "metadata": {},
   "outputs": [
    {
     "data": {
      "application/vnd.jupyter.widget-view+json": {
       "model_id": "3515e51b87e14c27ac9c65154fd21dfb",
       "version_major": 2,
       "version_minor": 0
      },
      "text/html": [
       "<p>Failed to display Jupyter Widget of type <code>interactive</code>.</p>\n",
       "<p>\n",
       "  If you're reading this message in the Jupyter Notebook or JupyterLab Notebook, it may mean\n",
       "  that the widgets JavaScript is still loading. If this message persists, it\n",
       "  likely means that the widgets JavaScript library is either not installed or\n",
       "  not enabled. See the <a href=\"https://ipywidgets.readthedocs.io/en/stable/user_install.html\">Jupyter\n",
       "  Widgets Documentation</a> for setup instructions.\n",
       "</p>\n",
       "<p>\n",
       "  If you're reading this message in another frontend (for example, a static\n",
       "  rendering on GitHub or <a href=\"https://nbviewer.jupyter.org/\">NBViewer</a>),\n",
       "  it may mean that your frontend doesn't currently support widgets.\n",
       "</p>\n"
      ],
      "text/plain": [
       "interactive(children=(IntSlider(value=30, continuous_update=False, description='Number of samples:', max=300, min=30, style=SliderStyle(description_width='initial')), IntSlider(value=1, continuous_update=False, description='Polynomial Degree:', max=15, min=1, style=SliderStyle(description_width='initial')), FloatSlider(value=0.1, continuous_update=False, description='Noise level:', max=1.0, readout_format='.1f', style=SliderStyle(description_width='initial')), Output()), _dom_classes=('widget-interact',))"
      ]
     },
     "metadata": {},
     "output_type": "display_data"
    }
   ],
   "source": [
    "def true_fun(X):\n",
    "    return np.cos(1.5 * np.pi * X)\n",
    "\n",
    "def bias_variance_to(n_samples, degree, noise):\n",
    "    np.random.seed(0)\n",
    "\n",
    "    X = np.sort(np.random.rand(n_samples))\n",
    "    y = true_fun(X) + np.random.randn(n_samples) * noise\n",
    "\n",
    "    polynomial_features = PolynomialFeatures(degree=degree,\n",
    "                                             include_bias=True)\n",
    "    linear_regression = LinearRegression()\n",
    "    pipeline = Pipeline([(\"polynomial_features\", polynomial_features),\n",
    "                         (\"linear_regression\", linear_regression)])\n",
    "    pipeline.fit(X[:, np.newaxis], y)\n",
    "\n",
    "    # Evaluate the models using crossvalidation\n",
    "    scores = cross_val_score(pipeline, X[:, np.newaxis], y,\n",
    "                             scoring=\"neg_mean_squared_error\", cv=10)\n",
    "\n",
    "    X_test = np.linspace(0, 1, 100)\n",
    "    plt.plot(X_test, pipeline.predict(X_test[:, np.newaxis]), label=\"Model\")\n",
    "    plt.plot(X_test, true_fun(X_test), label=\"True function\")\n",
    "    plt.scatter(X, y, edgecolor='b', s=20, label=\"Samples\")\n",
    "    plt.xlabel(\"x\")\n",
    "    plt.ylabel(\"y\")\n",
    "    plt.xlim((0, 1))\n",
    "    plt.ylim((-2, 2))\n",
    "    plt.legend(loc=\"best\")\n",
    "    plt.title(\"Degree {}\\nMSE = {:.2e}(+/- {:.2e})\".format(\n",
    "        degree, -scores.mean(), scores.std()))\n",
    "    plt.show()\n",
    "    \n",
    "interact(bias_variance_to, \n",
    "        n_samples=ipywidgets.IntSlider(value=30,\n",
    "                                         min=30,\n",
    "                                         max=300,\n",
    "                                         step=1,\n",
    "                                         description='Number of samples:',\n",
    "                                         style={'description_width': 'initial'},\n",
    "                                         continuous_update=False),\n",
    "        degree=ipywidgets.IntSlider(value=1,\n",
    "                                         min=1,\n",
    "                                         max=15,\n",
    "                                         step=1,\n",
    "                                         description='Polynomial Degree:',\n",
    "                                         style={'description_width': 'initial'},\n",
    "                                         continuous_update=False),\n",
    "         noise=ipywidgets.FloatSlider(value=0.1,\n",
    "                                      min=0,\n",
    "                                      max=1,\n",
    "                                      step=0.1,\n",
    "                                      readout_format='.1f',\n",
    "                                      description='Noise level:',\n",
    "                                      style={'description_width': 'initial'},\n",
    "                                      continuous_update=False),);"
   ]
  },
  {
   "cell_type": "code",
   "execution_count": 3,
   "metadata": {},
   "outputs": [
    {
     "data": {
      "application/vnd.jupyter.widget-view+json": {
       "model_id": "b1b42c3058f648ed9e493dcb5275b71f",
       "version_major": 2,
       "version_minor": 0
      },
      "text/html": [
       "<p>Failed to display Jupyter Widget of type <code>interactive</code>.</p>\n",
       "<p>\n",
       "  If you're reading this message in the Jupyter Notebook or JupyterLab Notebook, it may mean\n",
       "  that the widgets JavaScript is still loading. If this message persists, it\n",
       "  likely means that the widgets JavaScript library is either not installed or\n",
       "  not enabled. See the <a href=\"https://ipywidgets.readthedocs.io/en/stable/user_install.html\">Jupyter\n",
       "  Widgets Documentation</a> for setup instructions.\n",
       "</p>\n",
       "<p>\n",
       "  If you're reading this message in another frontend (for example, a static\n",
       "  rendering on GitHub or <a href=\"https://nbviewer.jupyter.org/\">NBViewer</a>),\n",
       "  it may mean that your frontend doesn't currently support widgets.\n",
       "</p>\n"
      ],
      "text/plain": [
       "interactive(children=(FloatSlider(value=0.1, continuous_update=False, description='Noise level:', max=1.0, readout_format='.1f', style=SliderStyle(description_width='initial')), Output()), _dom_classes=('widget-interact',))"
      ]
     },
     "metadata": {},
     "output_type": "display_data"
    }
   ],
   "source": [
    "degrees = np.arange(1, 10, 1)\n",
    "def bias_variance_to(noise):\n",
    "    n_samples = 300\n",
    "    np.random.seed(0)\n",
    "    score = []\n",
    "\n",
    "    for degree in degrees:\n",
    "        X = np.sort(np.random.rand(n_samples))\n",
    "        y = true_fun(X) + np.random.randn(n_samples) * noise\n",
    "\n",
    "        polynomial_features = PolynomialFeatures(degree=degree,\n",
    "                                                 include_bias=True)\n",
    "        linear_regression = LinearRegression()\n",
    "        pipeline = Pipeline([(\"polynomial_features\", polynomial_features),\n",
    "                             (\"linear_regression\", linear_regression)])\n",
    "        pipeline.fit(X[:, np.newaxis], y)\n",
    "\n",
    "        # Evaluate the models using crossvalidation\n",
    "        scores = cross_val_score(pipeline, X[:, np.newaxis], y,\n",
    "                                 scoring=\"neg_mean_squared_error\", cv=10)\n",
    "\n",
    "        score.append(-scores.mean())\n",
    "\n",
    "    plt.plot(degrees, score)\n",
    "    plt.ylabel('MSE')\n",
    "    plt.xlabel('Polynomial degree (Model Complexity)')\n",
    "    \n",
    "interact(bias_variance_to,\n",
    "         noise=ipywidgets.FloatSlider(value=0.1,\n",
    "                                      min=0,\n",
    "                                      max=1,\n",
    "                                      step=0.1,\n",
    "                                      readout_format='.1f',\n",
    "                                      description='Noise level:',\n",
    "                                      style={'description_width': 'initial'},\n",
    "                                      continuous_update=False),);"
   ]
  },
  {
   "cell_type": "code",
   "execution_count": null,
   "metadata": {
    "collapsed": true
   },
   "outputs": [],
   "source": []
  }
 ],
 "metadata": {
  "kernelspec": {
   "display_name": "Python 3",
   "language": "python",
   "name": "python3"
  },
  "language_info": {
   "codemirror_mode": {
    "name": "ipython",
    "version": 3
   },
   "file_extension": ".py",
   "mimetype": "text/x-python",
   "name": "python",
   "nbconvert_exporter": "python",
   "pygments_lexer": "ipython3",
   "version": "3.6.4"
  }
 },
 "nbformat": 4,
 "nbformat_minor": 2
}
