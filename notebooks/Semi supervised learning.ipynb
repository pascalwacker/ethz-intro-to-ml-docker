{
 "cells": [
  {
   "cell_type": "markdown",
   "metadata": {},
   "source": [
    "# Semi-supervised learning\n",
    "## Label spreading"
   ]
  },
  {
   "cell_type": "code",
   "execution_count": 1,
   "metadata": {},
   "outputs": [
    {
     "name": "stdout",
     "output_type": "stream",
     "text": [
      "The autoreload extension is already loaded. To reload it, use:\n",
      "  %reload_ext autoreload\n"
     ]
    }
   ],
   "source": [
    "# Code source: Sebastian Curi and Andreas Krause, based on Jaques Grobler (sklearn demos).\n",
    "# License: BSD 3 clause\n",
    "\n",
    "# We start importing some modules and running some magic commands\n",
    "% matplotlib inline\n",
    "% reload_ext autoreload\n",
    "% load_ext autoreload\n",
    "% autoreload 2\n",
    "\n",
    "# General math and plotting modules.\n",
    "import numpy as np\n",
    "import matplotlib as mpl\n",
    "import matplotlib.pyplot as plt\n",
    "from matplotlib.colors import ListedColormap\n",
    "import itertools\n",
    "import plot_helpers\n",
    "\n",
    "# Widget and formatting modules\n",
    "import ipywidgets\n",
    "from ipywidgets import interact, interactive, interact_manual, fixed\n",
    "import pylab\n",
    "# If in your browser the figures are not nicely vizualized, change the following line. \n",
    "pylab.rcParams['figure.figsize'] = (20, 5)\n",
    "\n",
    "# Machine Learning library. \n",
    "from sklearn import datasets\n",
    "from sklearn import svm\n",
    "from sklearn.semi_supervised import label_propagation\n",
    "from scipy import stats\n"
   ]
  },
  {
   "cell_type": "code",
   "execution_count": 2,
   "metadata": {},
   "outputs": [
    {
     "data": {
      "application/vnd.jupyter.widget-view+json": {
       "model_id": "89b1dface7104551b802e9138d6b5079",
       "version_major": 2,
       "version_minor": 0
      },
      "text/html": [
       "<p>Failed to display Jupyter Widget of type <code>interactive</code>.</p>\n",
       "<p>\n",
       "  If you're reading this message in the Jupyter Notebook or JupyterLab Notebook, it may mean\n",
       "  that the widgets JavaScript is still loading. If this message persists, it\n",
       "  likely means that the widgets JavaScript library is either not installed or\n",
       "  not enabled. See the <a href=\"https://ipywidgets.readthedocs.io/en/stable/user_install.html\">Jupyter\n",
       "  Widgets Documentation</a> for setup instructions.\n",
       "</p>\n",
       "<p>\n",
       "  If you're reading this message in another frontend (for example, a static\n",
       "  rendering on GitHub or <a href=\"https://nbviewer.jupyter.org/\">NBViewer</a>),\n",
       "  it may mean that your frontend doesn't currently support widgets.\n",
       "</p>\n"
      ],
      "text/plain": [
       "interactive(children=(FloatSlider(value=0.5, continuous_update=False, description='labeled_data_percentage', max=1.0, min=0.1, readout_format='.1f', style=SliderStyle(description_width='initial')), Output()), _dom_classes=('widget-interact',))"
      ]
     },
     "metadata": {},
     "output_type": "display_data"
    },
    {
     "data": {
      "text/plain": [
       "<function __main__.label_spreading>"
      ]
     },
     "execution_count": 2,
     "metadata": {},
     "output_type": "execute_result"
    }
   ],
   "source": [
    "# Authors: Clay Woolam <clay@woolam.org>\n",
    "# License: BSD\n",
    "\n",
    "\n",
    "def label_spreading(labeled_data_percentage):\n",
    "    iris = datasets.load_iris()\n",
    "    X = iris.data[:, :2]\n",
    "    y = iris.target\n",
    "    \n",
    "    rng = np.random.RandomState(0)\n",
    "    y_train = np.copy(y)\n",
    "    y_train[rng.rand(len(y)) < 1-labeled_data_percentage] = -1\n",
    "    clf = label_propagation.LabelSpreading()\n",
    "    clf.fit(X, y_train)\n",
    "    \n",
    "    # step size in the mesh\n",
    "    h = .02\n",
    "    # create a mesh to plot in\n",
    "    x_min, x_max = X[:, 0].min() - 1, X[:, 0].max() + 1\n",
    "    y_min, y_max = X[:, 1].min() - 1, X[:, 1].max() + 1\n",
    "    xx, yy = np.meshgrid(np.arange(x_min, x_max, h),\n",
    "                         np.arange(y_min, y_max, h))\n",
    "    \n",
    "    color_map = {-1: (1, 1, 1), 0: (0, 0, .9), 1: (1, 0, 0), 2: (.8, .6, 0)}\n",
    "    \n",
    "    # Plot the decision boundary. For that, we will assign a color to each\n",
    "    # point in the mesh [x_min, x_max]x[y_min, y_max].\n",
    "    Z = clf.predict(np.c_[xx.ravel(), yy.ravel()])\n",
    "    # Put the result into a color plot\n",
    "    Z = Z.reshape(xx.shape)\n",
    "    plt.contourf(xx, yy, Z, cmap=plt.cm.Paired)\n",
    "    plt.axis('off')\n",
    "\n",
    "    # Plot also the training points\n",
    "    colors = [color_map[y] for y in y_train]\n",
    "    plt.scatter(X[:, 0], X[:, 1], c=colors, edgecolors='black')\n",
    "\n",
    "    #plt.title(titles[i])\n",
    "    plt.show()\n",
    "\n",
    "interact(label_spreading, labeled_data_percentage=ipywidgets.FloatSlider(\n",
    "    value=0.5, min=0.1, max=1.0, step=0.1, readout_format='.1f', style={'description_width': 'initial'},\n",
    "    continuous_update=False),)"
   ]
  },
  {
   "cell_type": "code",
   "execution_count": 3,
   "metadata": {},
   "outputs": [
    {
     "data": {
      "application/vnd.jupyter.widget-view+json": {
       "model_id": "18a4da4dcb724e779be57a133df186e6",
       "version_major": 2,
       "version_minor": 0
      },
      "text/html": [
       "<p>Failed to display Jupyter Widget of type <code>interactive</code>.</p>\n",
       "<p>\n",
       "  If you're reading this message in the Jupyter Notebook or JupyterLab Notebook, it may mean\n",
       "  that the widgets JavaScript is still loading. If this message persists, it\n",
       "  likely means that the widgets JavaScript library is either not installed or\n",
       "  not enabled. See the <a href=\"https://ipywidgets.readthedocs.io/en/stable/user_install.html\">Jupyter\n",
       "  Widgets Documentation</a> for setup instructions.\n",
       "</p>\n",
       "<p>\n",
       "  If you're reading this message in another frontend (for example, a static\n",
       "  rendering on GitHub or <a href=\"https://nbviewer.jupyter.org/\">NBViewer</a>),\n",
       "  it may mean that your frontend doesn't currently support widgets.\n",
       "</p>\n"
      ],
      "text/plain": [
       "interactive(children=(IntSlider(value=6, continuous_update=False, description='Max iter:', max=10, min=1, style=SliderStyle(description_width='initial')), IntSlider(value=5, continuous_update=False, description='Label step:', max=8, min=2, style=SliderStyle(description_width='initial')), Output()), _dom_classes=('widget-interact',))"
      ]
     },
     "metadata": {},
     "output_type": "display_data"
    },
    {
     "data": {
      "text/plain": [
       "<function __main__.semisupervised_mnist>"
      ]
     },
     "execution_count": 3,
     "metadata": {},
     "output_type": "execute_result"
    }
   ],
   "source": [
    "def semisupervised_mnist(max_iterations, step):\n",
    "    digits = datasets.load_digits()\n",
    "    rng = np.random.RandomState(0)\n",
    "    indices = np.arange(len(digits.data))\n",
    "    rng.shuffle(indices)\n",
    "\n",
    "    X = digits.data[indices[:330]]\n",
    "    y = digits.target[indices[:330]]\n",
    "    images = digits.images[indices[:330]]\n",
    "\n",
    "    n_total_samples = len(y)\n",
    "    n_labeled_points = 10\n",
    "\n",
    "    unlabeled_indices = np.arange(n_total_samples)[n_labeled_points:]\n",
    "    f = plt.figure()\n",
    "\n",
    "    for i in range(max_iterations):\n",
    "        if len(unlabeled_indices) == 0:\n",
    "            print(\"No unlabeled items left to label.\")\n",
    "            break\n",
    "        y_train = np.copy(y)\n",
    "        y_train[unlabeled_indices] = -1\n",
    "\n",
    "        lp_model = label_propagation.LabelSpreading(gamma=0.25, max_iter=max_iterations)\n",
    "        lp_model.fit(X, y_train)\n",
    "\n",
    "        predicted_labels = lp_model.transduction_[unlabeled_indices]\n",
    "        true_labels = y[unlabeled_indices]\n",
    "\n",
    "\n",
    "        # compute the entropies of transduced label distributions\n",
    "        pred_entropies = stats.distributions.entropy(lp_model.label_distributions_.T)\n",
    "\n",
    "        # select up to 5 digit examples that the classifier is most uncertain about\n",
    "        uncertainty_index = np.argsort(pred_entropies)[::-1]\n",
    "        uncertainty_index = uncertainty_index[np.in1d(uncertainty_index, unlabeled_indices)][:step]\n",
    "\n",
    "        # keep track of indices that we get labels for\n",
    "        delete_indices = np.array([])\n",
    "\n",
    "        # Visualize the gain only on the first 5\n",
    "        k = 0\n",
    "        kmax = 5\n",
    "        f.text(.05, (max_iterations - i - 0.5)/max_iterations, \n",
    "               \"model %d\\n\\nfit with\\n%d labels\" % ((i + 1), n_labeled_points), \n",
    "               size=8)\n",
    "        \n",
    "        for index, image_index in enumerate(uncertainty_index):\n",
    "            image = images[image_index]\n",
    "            sub = f.add_subplot(max_iterations, kmax, index + 1 + (kmax * i))\n",
    "            sub.imshow(image, cmap=plt.cm.gray_r, interpolation='none')\n",
    "            sub.set_title(\"predict: %i\\ntrue: %i\" % (lp_model.transduction_[image_index], y[image_index]), size=10)\n",
    "            sub.axis('off')\n",
    "            k +=1 \n",
    "            if k == kmax:\n",
    "                break\n",
    "\n",
    "        # labeling points, remote from labeled set\n",
    "        delete_index, = np.where(unlabeled_indices == image_index)\n",
    "        delete_indices = np.concatenate((delete_indices, delete_index))\n",
    "\n",
    "        unlabeled_indices = np.delete(unlabeled_indices, delete_indices)\n",
    "        n_labeled_points += len(uncertainty_index)\n",
    "        \n",
    "        f.suptitle(\"Active learning with Label Propagation.\\nRows show 5 most \"\n",
    "                   \"uncertain labels to learn with the next model.\", y=1.15)\n",
    "        \n",
    "        plt.subplots_adjust(left=0.2, right=0.9, wspace=0.1, hspace=0.85,\n",
    "                               bottom=0.2/(max_iterations), \n",
    "                               top=1-0.15/max_iterations) #  top=0.9,\n",
    "        \n",
    "    plt.show()\n",
    "        \n",
    "interact(semisupervised_mnist, \n",
    "         max_iterations=ipywidgets.IntSlider(value=6, min=1, max=10, step=1, description='Max iter:',\n",
    "                                         style={'description_width': 'initial'}, continuous_update=False),\n",
    "        step=ipywidgets.IntSlider(value=5, min=2, max=8, step=1, description='Label step:',\n",
    "                                         style={'description_width': 'initial'}, continuous_update=False),)"
   ]
  },
  {
   "cell_type": "code",
   "execution_count": null,
   "metadata": {
    "collapsed": true
   },
   "outputs": [],
   "source": []
  }
 ],
 "metadata": {
  "kernelspec": {
   "display_name": "Python 3",
   "language": "python",
   "name": "python3"
  },
  "language_info": {
   "codemirror_mode": {
    "name": "ipython",
    "version": 3
   },
   "file_extension": ".py",
   "mimetype": "text/x-python",
   "name": "python",
   "nbconvert_exporter": "python",
   "pygments_lexer": "ipython3",
   "version": "3.6.8"
  }
 },
 "nbformat": 4,
 "nbformat_minor": 2
}
